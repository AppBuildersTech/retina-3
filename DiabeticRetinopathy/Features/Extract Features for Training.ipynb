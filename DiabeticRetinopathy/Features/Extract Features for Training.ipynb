{
 "cells": [
  {
   "cell_type": "markdown",
   "metadata": {},
   "source": [
    "###Extract Features for Training"
   ]
  },
  {
   "cell_type": "code",
   "execution_count": 1,
   "metadata": {
    "collapsed": true
   },
   "outputs": [],
   "source": [
    "# enable magic\n",
    "from IPython.parallel import Client\n",
    "c = Client()"
   ]
  },
  {
   "cell_type": "code",
   "execution_count": 2,
   "metadata": {
    "collapsed": false
   },
   "outputs": [],
   "source": [
    "%%px --local\n",
    "import numpy as np\n",
    "import pandas as pd\n",
    "from kobra.dr import Labels\n",
    "from kobra.tr_utils import prep_out_path, time_now_str\n",
    "import os\n",
    "from os import path\n",
    "import shutil\n",
    "import mahotas as mh\n",
    "import mahotas.labeled as mhl\n",
    "import cv2\n",
    "from kobra.dr import ImageReader\n",
    "import time\n",
    "\n",
    "labels_file =  '/kaggle/retina/trainLabels.csv'\n",
    "root = '/kaggle/retina/reduced/test'\n",
    "\n",
    "masks_dir = '/kaggle/retina/test/prepmasks'\n",
    "features_path = '/kaggle/retina/reduced/features/test'\n",
    "prefix = 'features'\n",
    "\n",
    "def get_predicted_region(im, marker):\n",
    "    res = im.copy()\n",
    "    res[res != marker] = 0\n",
    "    return res\n",
    "\n",
    "names = pd.read_csv(labels_file)\n",
    "n_bins = 100\n",
    "isTest = True\n"
   ]
  },
  {
   "cell_type": "code",
   "execution_count": 3,
   "metadata": {
    "collapsed": false
   },
   "outputs": [],
   "source": [
    "prep_out_path(features_path)\n",
    "files = os.listdir(root)\n"
   ]
  },
  {
   "cell_type": "code",
   "execution_count": 4,
   "metadata": {
    "collapsed": false
   },
   "outputs": [],
   "source": [
    "def get_areal_features(f):\n",
    "    if not isTest:\n",
    "        label = names.loc[names['image'] == path.splitext(f)[0]]\n",
    "    else:\n",
    "        label = path.splitext(f)[0]\n",
    "    start = time.time()\n",
    "    imr = ImageReader(root, f, masks_dir, gray_scale = True)\n",
    "\n",
    "    drusen = get_predicted_region(imr.image, Labels.Drusen)\n",
    "    blood = get_predicted_region(imr.image, Labels.Haemorage)\n",
    "\n",
    "    Bc = np.ones((5, 5))\n",
    "    labels_drusen, n_drusen = mh.label(drusen, Bc)\n",
    "    labels_blood, n_blood = mh.label(blood, Bc)\n",
    "\n",
    "    area = float(cv2.countNonZero(imr.mask))\n",
    "\n",
    "    outp = np.array([], dtype = np.int)\n",
    "\n",
    "    # sizes excluding background\n",
    "    sizes_drusen = mhl.labeled_size(labels_drusen)[1:] / area\n",
    "    sizes_blood = mhl.labeled_size(labels_blood)[1:] / area\n",
    "\n",
    "    hist_druzen, _ = np.histogram(sizes_drusen, n_bins, (0, 1e-3))\n",
    "    hist_blood, _ = np.histogram(sizes_blood, n_bins, (0, 1e-3))\n",
    "\n",
    "\n",
    "    outp = np.r_[outp, hist_druzen]\n",
    "    outp = np.r_[outp, hist_blood]\n",
    "    if not isTest:\n",
    "        outp = np.r_[outp, label.values[0]]\n",
    "    else:\n",
    "        outp = np.r_[outp, [label, -1]]        \n",
    "    return outp"
   ]
  },
  {
   "cell_type": "code",
   "execution_count": 5,
   "metadata": {
    "collapsed": false
   },
   "outputs": [
    {
     "data": {
      "text/plain": [
       "array(['40', '31', '20', '13', '4', '6', '4', '1', '2', '0', '0', '0', '1',\n",
       "       '2', '0', '0', '2', '2', '0', '1', '0', '1', '1', '0', '0', '0',\n",
       "       '0', '0', '0', '0', '0', '0', '0', '2', '0', '0', '0', '1', '0',\n",
       "       '0', '1', '1', '0', '0', '0', '0', '0', '1', '0', '0', '0', '0',\n",
       "       '0', '0', '0', '0', '0', '0', '0', '0', '0', '0', '0', '0', '0',\n",
       "       '0', '0', '0', '0', '0', '0', '0', '0', '0', '0', '0', '0', '0',\n",
       "       '0', '0', '0', '0', '0', '0', '0', '0', '0', '0', '0', '0', '0',\n",
       "       '0', '0', '0', '0', '0', '0', '0', '0', '0', '32', '1', '0', '0',\n",
       "       '0', '0', '0', '0', '0', '1', '0', '0', '0', '0', '0', '0', '0',\n",
       "       '0', '0', '0', '0', '0', '0', '0', '0', '0', '0', '0', '0', '0',\n",
       "       '0', '0', '0', '0', '0', '0', '0', '0', '0', '0', '0', '0', '1',\n",
       "       '0', '0', '0', '0', '0', '0', '0', '0', '0', '0', '0', '0', '0',\n",
       "       '0', '0', '0', '0', '0', '0', '0', '0', '0', '0', '0', '0', '0',\n",
       "       '0', '0', '0', '0', '0', '0', '0', '0', '0', '0', '0', '0', '0',\n",
       "       '0', '0', '0', '0', '0', '0', '0', '0', '0', '0', '0', '0', '0',\n",
       "       '0', '0', '0', '0', '0', '1_left', '-1'], \n",
       "      dtype='|S11')"
      ]
     },
     "execution_count": 5,
     "metadata": {},
     "output_type": "execute_result"
    }
   ],
   "source": [
    "f = '1_left.png'\n",
    "get_areal_features(f)"
   ]
  },
  {
   "cell_type": "code",
   "execution_count": 6,
   "metadata": {
    "collapsed": false
   },
   "outputs": [],
   "source": [
    "dv = Client().load_balanced_view()\n",
    "\n",
    "features = dv.map(get_areal_features, np.array(files))\n",
    "features.wait()\n",
    "df = pd.DataFrame(data = features[:], columns = range(n_bins * 2) + ['name', 'level'])\n",
    "\n",
    "df.to_csv(path.join(features_path, prefix + \".csv\"), index = False, header=True)"
   ]
  }
 ],
 "metadata": {
  "kernelspec": {
   "display_name": "Python 2",
   "language": "python",
   "name": "python2"
  },
  "language_info": {
   "codemirror_mode": {
    "name": "ipython",
    "version": 2
   },
   "file_extension": ".py",
   "mimetype": "text/x-python",
   "name": "python",
   "nbconvert_exporter": "python",
   "pygments_lexer": "ipython2",
   "version": "2.7.9"
  }
 },
 "nbformat": 4,
 "nbformat_minor": 0
}
