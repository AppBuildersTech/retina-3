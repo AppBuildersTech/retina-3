{
 "cells": [
  {
   "cell_type": "markdown",
   "metadata": {},
   "source": [
    "###Classifying Images by Blobs and Corners\n",
    "\n",
    "Instantiate the cluster"
   ]
  },
  {
   "cell_type": "code",
   "execution_count": 1,
   "metadata": {
    "collapsed": false
   },
   "outputs": [],
   "source": [
    "%matplotlib inline\n",
    "from IPython.parallel import Client\n",
    "c = Client()"
   ]
  },
  {
   "cell_type": "markdown",
   "metadata": {},
   "source": [
    "Import the individual processing function everywhere (slow!)"
   ]
  },
  {
   "cell_type": "code",
   "execution_count": 2,
   "metadata": {
    "collapsed": true
   },
   "outputs": [],
   "source": [
    "%%px --local\n",
    "import numpy as np\n",
    "import pandas as pd\n",
    "import os\n",
    "from os import path\n",
    "from skimage import io\n",
    "from skimage.io import ImageCollection\n",
    "from skimage.exposure.exposure import equalize_hist\n",
    "from skimage.color.colorconv import rgb2gray\n",
    "from skimage.feature.blob import blob_log\n",
    "from skimage.feature.corner import corner_peaks, corner_harris\n",
    "import cv2\n",
    "\n",
    "root_path = \"/kaggle/retina\"\n",
    "\n",
    "# train/test directories\n",
    "train_path = path.join(root_path, 'train')\n",
    "sample_train = path.join(train_path, 'sample')\n",
    "\n",
    "# in CSV representation\n",
    "labels_file = path.join(root_path, \"trainLabels.csv\")\n",
    "labels = pd.read_csv(labels_file, header=0)\n",
    "\n",
    "def get_image_name(file_name):\n",
    "    return path.splitext(path.split(file_name)[1])[0]\n",
    "\n",
    "def process_single_image(file_name):\n",
    "    image = io.imread(file_name)\n",
    "    image_gray = equalize_hist(rgb2gray(image))\n",
    "\n",
    "    blobs = blob_log(image_gray, max_sigma=30, threshold=.1)\n",
    "    \n",
    "    corners = corner_peaks(corner_harris(image_gray), min_distance=2)\n",
    "    image_name = get_image_name(file_name)\n",
    "    level = labels[labels['image'] == image_name]['level'].iloc[0]\n",
    "\n",
    "    return np.array([blobs.shape[0], corners.shape[0], int(level != 0)])"
   ]
  },
  {
   "cell_type": "markdown",
   "metadata": {},
   "source": [
    "Test on a single file"
   ]
  },
  {
   "cell_type": "code",
   "execution_count": 3,
   "metadata": {
    "collapsed": true
   },
   "outputs": [],
   "source": [
    "in_path = path.normpath('/Kaggle/Retina/train/stum')\n",
    "\n",
    "file_name = path.join(in_path, '457_left.jpeg')\n",
    "process_single_image(file_name)"
   ]
  },
  {
   "cell_type": "markdown",
   "metadata": {},
   "source": [
    "Now on the cluster"
   ]
  },
  {
   "cell_type": "code",
   "execution_count": null,
   "metadata": {
    "collapsed": true
   },
   "outputs": [],
   "source": [
    "dv = Client()[:]\n",
    "files = [path.join(sample_train, f) for f in os.listdir(in_path)]\n",
    "len = length(files)\n",
    "asr = dv.map(process_single_image, files[:len/2])\n",
    "final = reduce(lambda state, x: np.vstack((state, x)), asr)"
   ]
  },
  {
   "cell_type": "code",
   "execution_count": 12,
   "metadata": {
    "collapsed": false
   },
   "outputs": [],
   "source": [
    "final.tofile('/users/boris/Dropbox/Kaggle/retina/Blobs_Corners_0.bin')"
   ]
  }
 ],
 "metadata": {
  "kernelspec": {
   "display_name": "Python 2",
   "language": "python",
   "name": "python2"
  },
  "language_info": {
   "codemirror_mode": {
    "name": "ipython",
    "version": 2
   },
   "file_extension": ".py",
   "mimetype": "text/x-python",
   "name": "python",
   "nbconvert_exporter": "python",
   "pygments_lexer": "ipython2",
   "version": "2.7.9"
  }
 },
 "nbformat": 4,
 "nbformat_minor": 0
}
