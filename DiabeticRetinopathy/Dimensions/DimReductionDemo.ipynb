{
 "cells": [
  {
   "cell_type": "markdown",
   "metadata": {},
   "source": [
    "This notebook demonstrates using scikit-learn methods to reduce the dimensionality of a feature set and visualization of the resulting 3 dimensional sets with datapoints colored according to their labels.   "
   ]
  },
  {
   "cell_type": "code",
   "execution_count": 1,
   "metadata": {
    "collapsed": false
   },
   "outputs": [
    {
     "name": "stderr",
     "output_type": "stream",
     "text": [
      "Vendor:  Continuum Analytics, Inc.\n",
      "Package: mkl\n",
      "Message: trial mode expires in 30 days\n",
      "Vendor:  Continuum Analytics, Inc.\n",
      "Package: mkl\n",
      "Message: trial mode expires in 30 days\n"
     ]
    }
   ],
   "source": [
    "# You want to be able to rotate scatterplots in 3D, so don't show them inline \n",
    "%matplotlib tk\n",
    "\n",
    "# 'pip install bunch' if you do not have 'bunch' package\n",
    "import bunch\n",
    "\n",
    "# Our utility code resides in module dim_reduce.py, which we import here:\n",
    "import dim_reduce"
   ]
  },
  {
   "cell_type": "markdown",
   "metadata": {},
   "source": [
    "Now let us apply a PCA dimensionality reduction method to the \"iris\" dataset (which is 4D)."
   ]
  },
  {
   "cell_type": "code",
   "execution_count": 2,
   "metadata": {
    "collapsed": false
   },
   "outputs": [],
   "source": [
    "from sklearn.decomposition import PCA\n",
    "from sklearn.datasets import load_iris\n",
    "\n",
    "data = load_iris()  # a JavaScript-like object ('Bunch'), holding the training data for the built-in 'iris' dataset\n",
    "y = data.target # labels\n",
    "X = data.data # features (4 features for each sample)\n",
    "pca = PCA(n_components=3)  # reduce feture set to 3 dimensions\n",
    "reduced_X = pca.fit_transform(X) # reduced 3D feature set\n",
    "\n",
    "visData = bunch.Bunch()\n",
    "visData.target = data.target\n",
    "visData.data = reduced_X\n",
    "dim_reduce.vis3D(visData, title=\"3D PCA\", dotsize=30)"
   ]
  },
  {
   "cell_type": "markdown",
   "metadata": {},
   "source": [
    "A 3D scatterplot should display in a separate window. Rotating it by clicking and dragging you can observe that 2D is enough to separate the classes in this case! Indeed, let's transform directly to 2D:"
   ]
  },
  {
   "cell_type": "code",
   "execution_count": 3,
   "metadata": {
    "collapsed": false
   },
   "outputs": [],
   "source": [
    "pca = PCA(n_components=2)  \n",
    "visData.data = pca.fit_transform(X)\n",
    "dim_reduce.vis2D(visData, title=\"2D PCA\", dotsize=30)"
   ]
  },
  {
   "cell_type": "markdown",
   "metadata": {},
   "source": [
    "Similarly for t-SNE:"
   ]
  },
  {
   "cell_type": "code",
   "execution_count": 4,
   "metadata": {
    "collapsed": false
   },
   "outputs": [],
   "source": [
    "from sklearn.manifold import TSNE\n",
    "tsne = TSNE(n_components=3, random_state=0, learning_rate = 100)\n",
    "visData.data = tsne.fit_transform(X)\n",
    "dim_reduce.vis3D(visData, title=\"3D t-SNE\", dotsize=30)"
   ]
  },
  {
   "cell_type": "code",
   "execution_count": null,
   "metadata": {
    "collapsed": true
   },
   "outputs": [],
   "source": []
  }
 ],
 "metadata": {
  "kernelspec": {
   "display_name": "Python 2",
   "language": "python",
   "name": "python2"
  },
  "language_info": {
   "codemirror_mode": {
    "name": "ipython",
    "version": 2
   },
   "file_extension": ".py",
   "mimetype": "text/x-python",
   "name": "python",
   "nbconvert_exporter": "python",
   "pygments_lexer": "ipython2",
   "version": "2.7.9"
  }
 },
 "nbformat": 4,
 "nbformat_minor": 0
}
