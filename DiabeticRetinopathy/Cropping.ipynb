{
 "cells": [
  {
   "cell_type": "markdown",
   "metadata": {},
   "source": [
    "###Cropping\n",
    "Turned out not to be all that easy. Here is my solution, using mostly numpy.\n",
    "skimage is very slow. We've got 31K images in the training set alone, piping it through that is gonna take a while. Divide & conquer perhaps?\n",
    "\n",
    "I have checked in an acual Python script together with this. Also, to run it - modify the root path.\n",
    "\n",
    "The main problem is that <em><b>the black is NOT always black</em></b> in the backgrownd. This necessitates using contour finding. Otherwise I'd just use numpy [numpy.nonzero](http://docs.scipy.org/doc/numpy/reference/generated/numpy.nonzero.html) and be done with it."
   ]
  },
  {
   "cell_type": "code",
   "execution_count": 12,
   "metadata": {
    "collapsed": false
   },
   "outputs": [
    {
     "ename": "AttributeError",
     "evalue": "'module' object has no attribute 'crop'",
     "output_type": "error",
     "traceback": [
      "\u001b[1;31m---------------------------------------------------------------------------\u001b[0m",
      "\u001b[1;31mAttributeError\u001b[0m                            Traceback (most recent call last)",
      "\u001b[1;32m<ipython-input-12-07de2efee4c8>\u001b[0m in \u001b[0;36m<module>\u001b[1;34m()\u001b[0m\n\u001b[0;32m     41\u001b[0m \u001b[0mcropped\u001b[0m \u001b[1;33m=\u001b[0m \u001b[0mcrop_sk\u001b[0m\u001b[1;33m(\u001b[0m\u001b[0meye\u001b[0m\u001b[1;33m)\u001b[0m\u001b[1;33m\u001b[0m\u001b[0m\n\u001b[0;32m     42\u001b[0m \u001b[0mcropped1\u001b[0m \u001b[1;33m=\u001b[0m \u001b[0mcrop_cv\u001b[0m\u001b[1;33m(\u001b[0m\u001b[0meye\u001b[0m\u001b[1;33m)\u001b[0m\u001b[1;33m\u001b[0m\u001b[0m\n\u001b[1;32m---> 43\u001b[1;33m \u001b[0mcropped2\u001b[0m \u001b[1;33m=\u001b[0m \u001b[0mautocrop\u001b[0m\u001b[1;33m(\u001b[0m\u001b[0meye\u001b[0m\u001b[1;33m)\u001b[0m\u001b[1;33m\u001b[0m\u001b[0m\n\u001b[0m\u001b[0;32m     44\u001b[0m \u001b[1;33m\u001b[0m\u001b[0m\n\u001b[0;32m     45\u001b[0m \u001b[0mf\u001b[0m\u001b[1;33m,\u001b[0m \u001b[1;33m(\u001b[0m\u001b[0max1\u001b[0m\u001b[1;33m,\u001b[0m \u001b[0max2\u001b[0m\u001b[1;33m,\u001b[0m \u001b[0max3\u001b[0m\u001b[1;33m,\u001b[0m \u001b[0max4\u001b[0m\u001b[1;33m)\u001b[0m \u001b[1;33m=\u001b[0m \u001b[0mplt\u001b[0m\u001b[1;33m.\u001b[0m\u001b[0msubplots\u001b[0m\u001b[1;33m(\u001b[0m\u001b[1;36m1\u001b[0m\u001b[1;33m,\u001b[0m \u001b[1;36m4\u001b[0m\u001b[1;33m)\u001b[0m\u001b[1;33m\u001b[0m\u001b[0m\n",
      "\u001b[1;32mC:\\Users\\Boris\\Documents\\GitHub\\retina\\DiabeticRetinopathy\\autocrop.pyc\u001b[0m in \u001b[0;36mautocrop\u001b[1;34m(img)\u001b[0m\n\u001b[0;32m     13\u001b[0m     \u001b[0mlower_border\u001b[0m \u001b[1;33m=\u001b[0m \u001b[0mlen\u001b[0m\u001b[1;33m(\u001b[0m\u001b[0mrows\u001b[0m\u001b[1;33m)\u001b[0m\u001b[1;33m/\u001b[0m\u001b[1;36m2\u001b[0m \u001b[1;33m-\u001b[0m \u001b[0mnp\u001b[0m\u001b[1;33m.\u001b[0m\u001b[0margmax\u001b[0m\u001b[1;33m(\u001b[0m\u001b[0mrows\u001b[0m\u001b[1;33m[\u001b[0m\u001b[0mlen\u001b[0m\u001b[1;33m(\u001b[0m\u001b[0mrows\u001b[0m\u001b[1;33m)\u001b[0m\u001b[1;33m/\u001b[0m\u001b[1;36m2\u001b[0m\u001b[1;33m:\u001b[0m\u001b[0mlen\u001b[0m\u001b[1;33m(\u001b[0m\u001b[0mrows\u001b[0m\u001b[1;33m)\u001b[0m\u001b[1;33m-\u001b[0m\u001b[1;36m1\u001b[0m\u001b[1;33m]\u001b[0m \u001b[1;33m<\u001b[0m \u001b[1;36m10000\u001b[0m\u001b[1;33m)\u001b[0m\u001b[1;33m\u001b[0m\u001b[0m\n\u001b[0;32m     14\u001b[0m \u001b[1;33m\u001b[0m\u001b[0m\n\u001b[1;32m---> 15\u001b[1;33m     \u001b[1;32mreturn\u001b[0m \u001b[0mskimage\u001b[0m\u001b[1;33m.\u001b[0m\u001b[0mutil\u001b[0m\u001b[1;33m.\u001b[0m\u001b[0mcrop\u001b[0m\u001b[1;33m(\u001b[0m\u001b[0mimg\u001b[0m\u001b[1;33m,\u001b[0m \u001b[1;33m(\u001b[0m\u001b[1;33m(\u001b[0m\u001b[0mupper_border\u001b[0m\u001b[1;33m,\u001b[0m \u001b[0mlower_border\u001b[0m\u001b[1;33m)\u001b[0m\u001b[1;33m,\u001b[0m\u001b[1;33m(\u001b[0m\u001b[0mleft_border\u001b[0m\u001b[1;33m,\u001b[0m \u001b[0mright_border\u001b[0m\u001b[1;33m)\u001b[0m\u001b[1;33m,\u001b[0m  \u001b[1;33m(\u001b[0m\u001b[1;36m0\u001b[0m\u001b[1;33m,\u001b[0m\u001b[1;36m0\u001b[0m\u001b[1;33m)\u001b[0m\u001b[1;33m)\u001b[0m\u001b[1;33m)\u001b[0m\u001b[1;33m\u001b[0m\u001b[0m\n\u001b[0m",
      "\u001b[1;31mAttributeError\u001b[0m: 'module' object has no attribute 'crop'"
     ]
    }
   ],
   "source": [
    "# %load edges.py\n",
    "from skimage import io\n",
    "from os import path\n",
    "from matplotlib import pyplot as plt\n",
    "from skimage.filter import canny\n",
    "import numpy as np\n",
    "import cv2\n",
    "from skimage.color.colorconv import rgb2gray\n",
    "from autocrop import autocrop\n",
    "\n",
    "def do_cropping(eye, edge):\n",
    "    row_dim, col_dim = np.nonzero(edge)\n",
    "\n",
    "    x_top, y_left = row_dim[0], np.min(col_dim)\n",
    "    x_bottom, y_right = row_dim[-1], np.max(col_dim)\n",
    "\n",
    "    return eye[x_top : x_bottom, y_left : y_right, :]\n",
    "\n",
    "def crop_cv(eye):\n",
    "    red_eye = eye[:, :, 0]\n",
    "\n",
    "    # compute the Otsu th\n",
    "    thresh_value, _ = cv2.threshold(red_eye, 0, 255, cv2.THRESH_BINARY | cv2.THRESH_OTSU)\n",
    "    upper, lower = thresh_value, thresh_value / 2\n",
    "    edges = cv2.Canny(eye, upper, lower)\n",
    "    return do_cropping(eye, edges)\n",
    "\n",
    "def crop_sk(eye):\n",
    "    red_eye = rgb2gray(eye)\n",
    "\n",
    "    edges = canny(red_eye, sigma=3)\n",
    "    return do_cropping(eye, edges)\n",
    "\n",
    "root = path.normpath('c:/kaggle/retina/train')\n",
    "an_eye = path.join(root, '20669_left.jpeg')\n",
    "eye = io.imread(an_eye)\n",
    "#eye_cv = cv2.imread(an_eye, cv2.IMREAD_GRAYSCALE)\n",
    "\n",
    "\n",
    "# get just one channel\n",
    "cropped = crop_sk(eye)\n",
    "cropped1 = crop_cv(eye)\n",
    "cropped2 = autocrop(eye)\n",
    "\n",
    "f, (ax1, ax2, ax3, ax4) = plt.subplots(1, 4)\n",
    "ax1.imshow(eye, interpolation='bicubic')\n",
    "ax2.imshow(cropped)\n",
    "ax3.imshow(cropped1)\n",
    "ax4.imshow(cropped1)\n"
   ]
  }
 ],
 "metadata": {
  "kernelspec": {
   "display_name": "Python 2",
   "language": "python",
   "name": "python2"
  },
  "language_info": {
   "codemirror_mode": {
    "name": "ipython",
    "version": 2
   },
   "file_extension": ".py",
   "mimetype": "text/x-python",
   "name": "python",
   "nbconvert_exporter": "python",
   "pygments_lexer": "ipython2",
   "version": "2.7.8"
  }
 },
 "nbformat": 4,
 "nbformat_minor": 0
}
