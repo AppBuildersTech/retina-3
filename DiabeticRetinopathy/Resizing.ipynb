{
 "cells": [
  {
   "cell_type": "markdown",
   "metadata": {},
   "source": [
    "Here we do some experiments with image resizing.  \n",
    "We will use `pillow` module (a fork of `PIL`), included with Anaconda 2.2.  \n",
    "For more info: http://pillow.readthedocs.org/ "
   ]
  },
  {
   "cell_type": "code",
   "execution_count": 1,
   "metadata": {
    "collapsed": true
   },
   "outputs": [],
   "source": [
    "import os\n",
    "import os.path\n",
    "from PIL import Image"
   ]
  },
  {
   "cell_type": "markdown",
   "metadata": {},
   "source": [
    "Let us set the parameters in one place:"
   ]
  },
  {
   "cell_type": "code",
   "execution_count": 2,
   "metadata": {
    "collapsed": false
   },
   "outputs": [],
   "source": [
    "src_dir = \"/kaggle/retina/sample\" # source directory of images to resize \n",
    "trg_dir = \"/kaggle/retina/resized\" # target directory of the resized images \n",
    "prefix = \"resized_\" # string to prepend to the resized file name\n",
    "hsize = 256 # horizontal size of the resized image\n",
    "vsize = 256 # vertical size of the resized image  "
   ]
  },
  {
   "cell_type": "markdown",
   "metadata": {},
   "source": [
    "**Load** an image:"
   ]
  },
  {
   "cell_type": "code",
   "execution_count": 3,
   "metadata": {
    "collapsed": false
   },
   "outputs": [
    {
     "name": "stdout",
     "output_type": "stream",
     "text": [
      "The slowest run took 158.14 times longer than the fastest. This could mean that an intermediate result is being cached \n",
      "10000 loops, best of 3: 136 µs per loop\n"
     ]
    }
   ],
   "source": [
    "all_files = filter(lambda x: x.endswith(\".jpeg\"), os.listdir(src_dir))\n",
    "filename = all_files[0]\n",
    "filepath = os.path.join(src_dir, filename)\n",
    "%timeit Image.open(filepath)\n",
    "im = Image.open(filepath)"
   ]
  },
  {
   "cell_type": "markdown",
   "metadata": {},
   "source": [
    "**Resize** the image with default downsampling:  "
   ]
  },
  {
   "cell_type": "code",
   "execution_count": 4,
   "metadata": {
    "collapsed": false
   },
   "outputs": [
    {
     "name": "stdout",
     "output_type": "stream",
     "text": [
      "The slowest run took 485.36 times longer than the fastest. This could mean that an intermediate result is being cached \n",
      "1 loops, best of 3: 455 µs per loop\n"
     ]
    }
   ],
   "source": [
    "%timeit im.resize((hsize, vsize))\n",
    "resized_im = im.resize((hsize, vsize))"
   ]
  },
  {
   "cell_type": "markdown",
   "metadata": {},
   "source": [
    "LANCZOS anti-aliasing method is recommended for downsampling by PIL tutorial, but is much slower:"
   ]
  },
  {
   "cell_type": "code",
   "execution_count": 5,
   "metadata": {
    "collapsed": false
   },
   "outputs": [
    {
     "name": "stdout",
     "output_type": "stream",
     "text": [
      "1 loops, best of 3: 192 ms per loop\n"
     ]
    }
   ],
   "source": [
    "%timeit im.resize((hsize, vsize), Image.LANCZOS) "
   ]
  },
  {
   "cell_type": "markdown",
   "metadata": {},
   "source": [
    "**Save** the resized image.  \n",
    "Parameter value `quality` > 95 is not recommended due to excessive file size with minimal benefits, but we do not care.  \n",
    "More info on file formats can be found here: http://pillow.readthedocs.org/handbook/image-file-formats.html"
   ]
  },
  {
   "cell_type": "code",
   "execution_count": 6,
   "metadata": {
    "collapsed": false
   },
   "outputs": [],
   "source": [
    "if not os.path.exists(trg_dir):\n",
    "    os.makedirs(trg_dir)"
   ]
  },
  {
   "cell_type": "code",
   "execution_count": 7,
   "metadata": {
    "collapsed": false,
    "scrolled": true
   },
   "outputs": [
    {
     "name": "stdout",
     "output_type": "stream",
     "text": [
      "100 loops, best of 3: 5.32 ms per loop\n"
     ]
    }
   ],
   "source": [
    "resized_filepath = os.path.join(trg_dir, prefix + filename)\n",
    "%timeit resized_im.save(resized_filepath, \"JPEG\", quality = 100) "
   ]
  },
  {
   "cell_type": "markdown",
   "metadata": {},
   "source": [
    "For quick and dirty experiments we can use the default downsampling. \n",
    "Here we create downsized copies of all files in the sample directory:"
   ]
  },
  {
   "cell_type": "code",
   "execution_count": 8,
   "metadata": {
    "collapsed": false
   },
   "outputs": [
    {
     "name": "stdout",
     "output_type": "stream",
     "text": [
      "1 loops, best of 1: 1.66 s per loop\n"
     ]
    }
   ],
   "source": [
    "def resize_all(method):\n",
    "    for filename in all_files:\n",
    "        filepath = os.path.join(src_dir, filename)\n",
    "        im = Image.open(filepath)\n",
    "        resized_im = im.resize((hsize, vsize), method)\n",
    "        resized_filepath = os.path.join(trg_dir, prefix + filename)\n",
    "        resized_im.save(resized_filepath, \"JPEG\", quality = 100)\n",
    "        \n",
    "%timeit -n1 -r1 resize_all(0)"
   ]
  },
  {
   "cell_type": "markdown",
   "metadata": {},
   "source": [
    "Now try with LANCZOS:"
   ]
  },
  {
   "cell_type": "code",
   "execution_count": 9,
   "metadata": {
    "collapsed": false
   },
   "outputs": [
    {
     "name": "stdout",
     "output_type": "stream",
     "text": [
      "1 loops, best of 1: 3.1 s per loop\n"
     ]
    }
   ],
   "source": [
    "%timeit -n1 -r1 resize_all(Image.LANCZOS)"
   ]
  },
  {
   "cell_type": "markdown",
   "metadata": {},
   "source": [
    "Since the processing is dominated by the CPU-bound resizing we can benefit from parallelization (forthcoming...)"
   ]
  }
 ],
 "metadata": {
  "kernelspec": {
   "display_name": "Python 2",
   "language": "python",
   "name": "python2"
  },
  "language_info": {
   "codemirror_mode": {
    "name": "ipython",
    "version": 2
   },
   "file_extension": ".py",
   "mimetype": "text/x-python",
   "name": "python",
   "nbconvert_exporter": "python",
   "pygments_lexer": "ipython2",
   "version": "2.7.9"
  }
 },
 "nbformat": 4,
 "nbformat_minor": 0
}
